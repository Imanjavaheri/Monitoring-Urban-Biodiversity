{
  "cells": [
    {
      "cell_type": "markdown",
      "metadata": {},
      "source": [
        "# Urban Biodiversity Tree Health Modeling\n\n",
        "This notebook retrieves urban tree census data, explores key characteristics, and builds a predictive model for tree health to support biodiversity monitoring."
      ]
    },
    {
      "cell_type": "markdown",
      "metadata": {},
      "source": [
        "## 1. Retrieve data\n",
        "We will use a subset of the 2015 New York City Street Tree Census, hosted as a CSV file on GitHub. The dataset contains tree species, health assessments, and stewardship information recorded throughout the city."
      ]
    },
    {
      "cell_type": "code",
      "execution_count": null,
      "metadata": {},
      "outputs": [],
      "source": [
        "import pandas as pd\n",
        "import numpy as np\n\n",
        "DATA_URL = \"https://raw.githubusercontent.com/charleyferrari/CUNY_DATA608/master/module4/data/trees_count_limited.csv\"\n",
        "trees = pd.read_csv(DATA_URL)\n",
        "trees.head()"
      ]
    },
    {
      "cell_type": "markdown",
      "metadata": {},
      "source": [
        "## 2. Explore the dataset"
      ]
    },
    {
      "cell_type": "code",
      "execution_count": null,
      "metadata": {},
      "outputs": [],
      "source": [
        "trees.info()"
      ]
    },
    {
      "cell_type": "code",
      "execution_count": null,
      "metadata": {},
      "outputs": [],
      "source": [
        "trees.describe(include='all')"
      ]
    },
    {
      "cell_type": "markdown",
      "metadata": {},
      "source": [
        "### Health distribution by borough"
      ]
    },
    {
      "cell_type": "code",
      "execution_count": null,
      "metadata": {},
      "outputs": [],
      "source": [
        "trees['health'].value_counts(normalize=True)"
      ]
    },
    {
      "cell_type": "code",
      "execution_count": null,
      "metadata": {},
      "outputs": [],
      "source": [
        "import seaborn as sns\n",
        "import matplotlib.pyplot as plt\n\n",
        "plt.figure(figsize=(8, 4))\n",
        "sns.countplot(data=trees, x='health', hue='boroname')\n",
        "plt.title('Tree health status across NYC boroughs')\n",
        "plt.xlabel('Health')\n",
        "plt.ylabel('Count')\n",
        "plt.tight_layout()\n",
        "plt.show()"
      ]
    },
    {
      "cell_type": "markdown",
      "metadata": {},
      "source": [
        "## 3. Preprocess features\n",
        "We will prepare categorical and numerical features for modeling. The goal is to predict whether a tree is in *good* health or not."
      ]
    },
    {
      "cell_type": "code",
      "execution_count": null,
      "metadata": {},
      "outputs": [],
      "source": [
        "from sklearn.model_selection import train_test_split\n",
        "from sklearn.compose import ColumnTransformer\n",
        "from sklearn.preprocessing import OneHotEncoder\n",
        "from sklearn.linear_model import LogisticRegression\n",
        "from sklearn.pipeline import Pipeline\n",
        "from sklearn.metrics import classification_report, ConfusionMatrixDisplay\n\n",
        "# Binary target: good health vs. other states\n",
        "trees_model = trees.dropna(subset=['health']).copy()\n",
        "trees_model['is_healthy'] = (trees_model['health'] == 'Good').astype(int)\n\n",
        "feature_cols = ['spc_common', 'boroname', 'steward', 'guards', 'sidewalk', 'curb_loc', 'soil', 'tree_dbh']\n",
        "X = trees_model[feature_cols]\n",
        "y = trees_model['is_healthy']\n\n",
        "numeric_features = ['tree_dbh']\n",
        "categorical_features = [col for col in feature_cols if col not in numeric_features]\n\n",
        "preprocessor = ColumnTransformer(\n",
        "    transformers=[\n",
        "        ('num', 'passthrough', numeric_features),\n",
        "        ('cat', OneHotEncoder(handle_unknown='ignore'), categorical_features)\n",
        "    ]\n",
        ")\n\n",
        "model = Pipeline(\n",
        "    steps=[\n",
        "        ('preprocess', preprocessor),\n",
        "        ('clf', LogisticRegression(max_iter=1000))\n",
        "    ]\n",
        ")\n\n",
        "X_train, X_test, y_train, y_test = train_test_split(X, y, test_size=0.2, random_state=42, stratify=y)\n",
        "model.fit(X_train, y_train)"
      ]
    },
    {
      "cell_type": "markdown",
      "metadata": {},
      "source": [
        "## 4. Evaluate the model"
      ]
    },
    {
      "cell_type": "code",
      "execution_count": null,
      "metadata": {},
      "outputs": [],
      "source": [
        "y_pred = model.predict(X_test)\n",
        "print(classification_report(y_test, y_pred))\n\n",
        "ConfusionMatrixDisplay.from_predictions(y_test, y_pred)\n",
        "plt.title('Confusion matrix: tree health classifier')\n",
        "plt.show()"
      ]
    },
    {
      "cell_type": "markdown",
      "metadata": {},
      "source": [
        "## 5. Feature influence\n",
        "The logistic regression coefficients help interpret which factors drive the likelihood of a tree being healthy."
      ]
    },
    {
      "cell_type": "code",
      "execution_count": null,
      "metadata": {},
      "outputs": [],
      "source": [
        "# Extract feature names from the one-hot encoder\n",
        "onehot = model.named_steps['preprocess'].named_transformers_['cat']\n",
        "encoded_cat_features = onehot.get_feature_names_out(categorical_features)\n",
        "feature_names = np.concatenate([numeric_features, encoded_cat_features])\n\n",
        "coef = model.named_steps['clf'].coef_[0]\n",
        "coef_df = pd.DataFrame({'feature': feature_names, 'coefficient': coef})\n",
        "coef_df.sort_values(by='coefficient', ascending=False).head(10)"
      ]
    },
    {
      "cell_type": "code",
      "execution_count": null,
      "metadata": {},
      "outputs": [],
      "source": [
        "coef_df.sort_values(by='coefficient').head(10)"
      ]
    },
    {
      "cell_type": "markdown",
      "metadata": {},
      "source": [
        "The model identifies stewardship engagement and species-level differences associated with tree health. These insights can guide urban biodiversity management by targeting species and neighborhoods with higher risk of declining tree health."
      ]
    }
  ],
  "metadata": {
    "kernelspec": {
      "display_name": "Python 3",
      "language": "python",
      "name": "python3"
    },
    "language_info": {
      "name": "python",
      "version": "3.x"
    }
  },
  "nbformat": 4,
  "nbformat_minor": 5
}
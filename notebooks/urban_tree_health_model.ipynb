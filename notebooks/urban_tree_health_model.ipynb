{
  "cells": [
    {
      "cell_type": "markdown",
      "metadata": {},
      "source": "# Urban biodiversity street tree health modeling\n\nThis notebook explores a sample of New York City street tree records with the goal of understanding which stewardship and site factors are associated with tree health. The workflow loads a reproducible dataset stored in this repository, performs exploratory analysis, and trains a logistic regression model to predict whether a tree is in good health."
    },
    {
      "cell_type": "markdown",
      "metadata": {},
      "source": "## 1. Load reproducible tree census data\n\nThe NYC Street Tree Census is too large to ship directly with this repository, so a stratified sample with 1,000 observations is stored locally at `data/nyc_street_trees_sample.csv`. This avoids brittle network requests while still capturing the categorical structure of the original dataset."
    },
    {
      "cell_type": "code",
      "execution_count": null,
      "metadata": {},
      "outputs": [],
      "source": "from pathlib import Path\nimport pandas as pd\n\nPROJECT_ROOT = Path().resolve()\nif PROJECT_ROOT.name == 'notebooks':\n    PROJECT_ROOT = PROJECT_ROOT.parent\nDATA_PATH = PROJECT_ROOT / 'data' / 'nyc_street_trees_sample.csv'\n\ntrees = pd.read_csv(DATA_PATH)\nprint(f'Loaded {len(trees):,} tree records from {DATA_PATH}')\ntrees.head()"
    },
    {
      "cell_type": "markdown",
      "metadata": {},
      "source": "## 2. Explore the dataset"
    },
    {
      "cell_type": "code",
      "execution_count": null,
      "metadata": {},
      "outputs": [],
      "source": "trees.info()"
    },
    {
      "cell_type": "code",
      "execution_count": null,
      "metadata": {},
      "outputs": [],
      "source": "trees.describe(include='all')"
    },
    {
      "cell_type": "code",
      "execution_count": null,
      "metadata": {},
      "outputs": [],
      "source": "trees['health'].value_counts(normalize=True).rename('share').to_frame().style.format({'share': '{:.1%}'})"
    },
    {
      "cell_type": "markdown",
      "metadata": {},
      "source": "### Health distribution by borough and stewardship"
    },
    {
      "cell_type": "code",
      "execution_count": null,
      "metadata": {},
      "outputs": [],
      "source": "import seaborn as sns\nimport matplotlib.pyplot as plt\n\nsns.set_theme(style='whitegrid')\nfig, axes = plt.subplots(1, 2, figsize=(14, 4), sharey=True)\nsns.countplot(data=trees, x='health', hue='boroname', ax=axes[0], order=['Good','Fair','Poor'])\naxes[0].set_title('Health distribution by borough')\naxes[0].set_xlabel('Health')\naxes[0].set_ylabel('Count')\naxes[0].legend(title='Borough', bbox_to_anchor=(1.05, 1), loc='upper left')\n\nsns.countplot(data=trees, x='health', hue='steward', ax=axes[1], order=['Good','Fair','Poor'])\naxes[1].set_title('Health distribution by stewardship level')\naxes[1].set_xlabel('Health')\naxes[1].set_ylabel('')\naxes[1].legend(title='Stewardship', bbox_to_anchor=(1.05, 1), loc='upper left')\n\nfig.tight_layout()\nplt.show()"
    },
    {
      "cell_type": "code",
      "execution_count": null,
      "metadata": {},
      "outputs": [],
      "source": "trees.groupby(['boroname', 'steward', 'health']).size().rename('count').reset_index().head(10)"
    },
    {
      "cell_type": "markdown",
      "metadata": {},
      "source": "## 3. Build a predictive model\n\nWe frame the problem as predicting whether a tree is in **good** health (1) versus any signs of decline (0). A logistic regression model with one-hot encoded categorical variables provides interpretable coefficients while remaining expressive. Class weights are balanced to account for the prevalence of healthy trees."
    },
    {
      "cell_type": "code",
      "execution_count": null,
      "metadata": {},
      "outputs": [],
      "source": "from sklearn.model_selection import train_test_split\nfrom sklearn.compose import ColumnTransformer\nfrom sklearn.preprocessing import OneHotEncoder\nfrom sklearn.linear_model import LogisticRegression\nfrom sklearn.pipeline import Pipeline\nfrom sklearn.metrics import classification_report, ConfusionMatrixDisplay, roc_auc_score\n\nmodel_df = trees.dropna(subset=['health']).copy()\nmodel_df['is_healthy'] = (model_df['health'] == 'Good').astype(int)\nfeature_cols = ['spc_common', 'boroname', 'steward', 'guards', 'sidewalk', 'curb_loc', 'soil', 'tree_dbh']\nX = model_df[feature_cols]\ny = model_df['is_healthy']\n\nnumeric_features = ['tree_dbh']\ncategorical_features = [col for col in feature_cols if col not in numeric_features]\n\npreprocessor = ColumnTransformer(\n    transformers=[\n        ('num', 'passthrough', numeric_features),\n        ('cat', OneHotEncoder(handle_unknown='ignore'), categorical_features)\n    ]\n)\n\nclf = Pipeline(\n    steps=[\n        ('preprocess', preprocessor),\n        ('logreg', LogisticRegression(max_iter=2000, class_weight='balanced'))\n    ]\n)\n\nX_train, X_test, y_train, y_test = train_test_split(\n    X, y, test_size=0.25, random_state=42, stratify=y\n)\nclf.fit(X_train, y_train)\n\nprint('ROC AUC:', roc_auc_score(y_test, clf.predict_proba(X_test)[:, 1]).round(3))\nprint('\nClassification report:')\nprint(classification_report(y_test, clf.predict(X_test)))\n\nConfusionMatrixDisplay.from_estimator(clf, X_test, y_test)\nplt.title('Tree health classifier confusion matrix')\nplt.show()"
    },
    {
      "cell_type": "markdown",
      "metadata": {},
      "source": "## 4. Interpret model coefficients"
    },
    {
      "cell_type": "code",
      "execution_count": null,
      "metadata": {},
      "outputs": [],
      "source": "import numpy as np\n\nonehot = clf.named_steps['preprocess'].named_transformers_['cat']\nencoded_feature_names = onehot.get_feature_names_out(categorical_features)\nfeature_names = np.concatenate([numeric_features, encoded_feature_names])\ncoefficients = clf.named_steps['logreg'].coef_[0]\ncoef_df = (\n    pd.DataFrame({'feature': feature_names, 'coefficient': coefficients})\n    .sort_values('coefficient', ascending=False)\n)\n\ncoef_df.head(10)"
    },
    {
      "cell_type": "code",
      "execution_count": null,
      "metadata": {},
      "outputs": [],
      "source": "coef_df.tail(10)"
    },
    {
      "cell_type": "markdown",
      "metadata": {},
      "source": "### Takeaways\n\n* Trees tended by more engaged stewards and with protective guards are much more likely to be healthy, underscoring the impact of community care.\n* Planting species such as ginkgo and Japanese zelkova or maintaining sidewalk conditions helps improve predicted health, while damage and compacted soils reduce the likelihood of good outcomes.\n* The interpretable logistic regression pipeline offers a baseline for prioritizing field inspections and targeting interventions in neighborhoods with higher predicted risk of decline."
    }
  ],
  "metadata": {
    "kernelspec": {
      "display_name": "Python 3",
      "language": "python",
      "name": "python3"
    },
    "language_info": {
      "name": "python",
      "version": "3.11"
    }
  },
  "nbformat": 4,
  "nbformat_minor": 5
}